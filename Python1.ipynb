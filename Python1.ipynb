{
  "nbformat": 4,
  "nbformat_minor": 0,
  "metadata": {
    "colab": {
      "name": "Untitled0.ipynb",
      "provenance": [],
      "authorship_tag": "ABX9TyMlOK/ChD18KkhOdpkvmESH",
      "include_colab_link": true
    },
    "kernelspec": {
      "name": "python3",
      "display_name": "Python 3"
    },
    "language_info": {
      "name": "python"
    }
  },
  "cells": [
    {
      "cell_type": "markdown",
      "metadata": {
        "id": "view-in-github",
        "colab_type": "text"
      },
      "source": [
        "<a href=\"https://colab.research.google.com/github/Anushreya-Satish/Angry-Birds/blob/master/Python1.ipynb\" target=\"_parent\"><img src=\"https://colab.research.google.com/assets/colab-badge.svg\" alt=\"Open In Colab\"/></a>"
      ]
    },
    {
      "cell_type": "code",
      "execution_count": 6,
      "metadata": {
        "id": "uO1TvOo9OLtB",
        "outputId": "51fe66be-bea4-4ce8-ce48-c3320b087eb0",
        "colab": {
          "base_uri": "https://localhost:8080/"
        }
      },
      "outputs": [
        {
          "output_type": "stream",
          "name": "stdout",
          "text": [
            "Enter your introduction: My name is Anushreya Satish\n",
            "Character Count 27\n",
            "Word Count 5\n"
          ]
        }
      ],
      "source": [
        "num1 = input(\"Enter your introduction: \")\n",
        "characterCount = 0\n",
        "wordCount = 1\n",
        "for i in num1:\n",
        "    characterCount = characterCount+1\n",
        "    if (i == \" \"):\n",
        "        wordCount = wordCount+1\n",
        "print(\"Character Count : \", characterCount)\n",
        "print(\"Word Count : \", wordCount)\n"
      ]
    }
  ]
}